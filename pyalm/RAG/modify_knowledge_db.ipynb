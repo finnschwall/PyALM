{
 "cells": [
  {
   "cell_type": "code",
   "execution_count": null,
   "id": "fe6e6ab2-3555-469a-9b1f-0270948d2412",
   "metadata": {},
   "outputs": [],
   "source": [
    "from pyalm.RAG import rag_db as rag"
   ]
  },
  {
   "cell_type": "code",
   "execution_count": null,
   "id": "5ee48e82-59fd-46fd-981f-4ff502708097",
   "metadata": {},
   "outputs": [],
   "source": [
    "# The model for the embeddings needs to be loaded. The databases need to be either created or loaded.\n",
    "# Do not call anything before this point.\n",
    "rag.init()\n",
    "# If you start this for the first time you should see three new files:\n",
    "# embeddings.pkl These are the vectors for the embeddings for each entry\n",
    "# embeddings_df.pkl This is a pandas dataframe with the actual content corresponding to the embeddings (i.e. the text of the entry and its metadata)\n",
    "# doc_metadata_df.pkl This is a pandas dataframe with the metadata of the documents from which the entries were extracted"
   ]
  },
  {
   "cell_type": "code",
   "execution_count": null,
   "outputs": [],
   "source": [
    "# If you want to reset the database, uncomment the following line. This irreversibly deletes all database entries. The JSON sources are not affected.\n",
    "# rag.reset_db()"
   ],
   "metadata": {
    "collapsed": false
   }
  },
  {
   "cell_type": "code",
   "execution_count": null,
   "outputs": [],
   "source": [
    "# This functions appends the databases with the content from this single JSON file.\n",
    "rag.from_json(file_path)"
   ],
   "metadata": {
    "collapsed": false
   }
  },
  {
   "cell_type": "code",
   "execution_count": null,
   "outputs": [],
   "source": [
    "# With this you can load many JSON files from a directory. The function will go through all subdirectories and load all JSON files.\n",
    "import os\n",
    "base_dir = \"PATH\"\n",
    "def load_json_files_from_directory(directory):\n",
    "    for root, dirs, files in os.walk(directory):\n",
    "        for filename in files:\n",
    "            file_path = os.path.join(root, filename)\n",
    "            if \".ipynb_checkpoints\" in file_path:\n",
    "                continue\n",
    "            if filename.endswith(\".json\"):\n",
    "                print(file_path)\n",
    "                rag.from_json(file_path)\n",
    "load_json_files_from_directory(base_dir)"
   ],
   "metadata": {
    "collapsed": false
   }
  },
  {
   "cell_type": "code",
   "execution_count": null,
   "outputs": [],
   "source": [
    "# This adds an exported XML directly to the databases.\n",
    "# No intermediate JSON files are required nor any LLM preprocessing\n",
    "rag.add_wiki(\"PATH_TO_XML\",[\"TAG1\",\"TAG2\"], \"NAME\")"
   ],
   "metadata": {
    "collapsed": false
   }
  },
  {
   "cell_type": "code",
   "execution_count": null,
   "outputs": [],
   "source": [
    "# With this you can test the retrieval. The query is the question you want to ask.\n",
    "# This already joins the entries with the metadata of the documents from which they were extracted.\n",
    "df, scores = rag.query_db(\"What is feedback from teachers?\",min_score=0.3, top_k=5,max_chars=5000)\n",
    "df"
   ],
   "metadata": {
    "collapsed": false
   }
  },
  {
   "cell_type": "code",
   "execution_count": null,
   "outputs": [],
   "source": [
    "# To see the entries that are stored. Its a dataframe\n",
    "# To get the document metadata, you'll need to join on the given document_id with the doc_metadata_db\n",
    "rag.embeddings_db"
   ],
   "metadata": {
    "collapsed": false
   }
  },
  {
   "cell_type": "code",
   "execution_count": null,
   "outputs": [],
   "source": [
    "# To see the metadata of the documents from which the entries were extracted. Its a dataframe\n",
    "rag.doc_metadata_db"
   ],
   "metadata": {
    "collapsed": false
   }
  },
  {
   "cell_type": "code",
   "execution_count": null,
   "outputs": [],
   "source": [
    "# The actual embeddings. This doesn't tell you a lot.\n",
    "# stored as np.arrays\n",
    "rag.embeddings_list"
   ],
   "metadata": {
    "collapsed": false
   }
  }
 ],
 "metadata": {
  "kernelspec": {
   "display_name": "Python 3 (ipykernel)",
   "language": "python",
   "name": "python3"
  },
  "language_info": {
   "codemirror_mode": {
    "name": "ipython",
    "version": 3
   },
   "file_extension": ".py",
   "mimetype": "text/x-python",
   "name": "python",
   "nbconvert_exporter": "python",
   "pygments_lexer": "ipython3",
   "version": "3.11.3"
  }
 },
 "nbformat": 4,
 "nbformat_minor": 5
}
