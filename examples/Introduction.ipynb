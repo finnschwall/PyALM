{
 "cells": [
  {
   "cell_type": "code",
   "execution_count": 1,
   "id": "8500ea7f-001b-4871-9ea7-0cf52e20478b",
   "metadata": {},
   "outputs": [],
   "source": [
    "%load_ext autoreload\n",
    "%autoreload 2\n",
    "from functools import partial\n",
    "from pprint import pp as pp_original\n",
    "pp = partial(pp_original,width=180, indent=2)"
   ]
  },
  {
   "cell_type": "markdown",
   "id": "9134492b-57ff-4226-ad4c-02f63c210115",
   "metadata": {},
   "source": [
    "# Introduction\n",
    "In the following the most important concepts are explained. GPT-4 is used as backend model, but it can be exchanged with any sufficiently capable model.\n",
    "\n",
    "## The model\n",
    "All language models derive from ALM - Abstract language model. It provides a common interface to whatever service or model is being used.\n",
    "All ALM methods are available on each backend via a common input/output scheme.\n",
    "\n",
    "Most backends however do possess unique abilities, properties, or peculiarities."
   ]
  },
  {
   "cell_type": "markdown",
   "id": "73a1f546-f3a9-4289-a582-2a2e4195ca1c",
   "metadata": {},
   "source": [
    "Alternatively for Luminous extended from Aleph Alpha\n",
    "```python\n",
    "from pyalm import AlephAlpha\n",
    "llm = AlephAlpha(\"luminous-extended-control\", aleph_alpha_key=KEY)\n",
    "```\n",
    "Or a local llama model\n",
    "```python\n",
    "from pyalm import LLaMa\n",
    "llm = LLaMa(PATH, n_threads=8,n_gpu_layers=70, n_ctx=4096, verbose=1)\n",
    "```\n",
    "A quick detail here. Should you use the autoreload extension in combination with local llama, use\n",
    "`llm.setup_backend()`\n",
    "before each generation."
   ]
  },
  {
   "cell_type": "code",
   "execution_count": 2,
   "id": "87285b4e-da74-45ba-9c13-ce6ead248f25",
   "metadata": {},
   "outputs": [],
   "source": [
    "from pyalm import OpenAI\n",
    "llm = OpenAI(\"gpt4\")\n",
    "#alternatively with providing key\n",
    "#llm = OpenAI(\"gpt4\", openai_key=\"sk-....\")"
   ]
  },
  {
   "cell_type": "markdown",
   "id": "280bf1ff-07eb-4bac-bdc7-5b7e2dd93f46",
   "metadata": {},
   "source": [
    "## Chatting\n",
    "ALM relies on a conversation tracker and various integration methods. The tracker can contain much more than just messages like e.g. function calls, used sources etc.\n",
    "But let's take a look at a simple example"
   ]
  },
  {
   "cell_type": "code",
   "execution_count": 3,
   "id": "d5962525-2d5c-4183-84c7-fa72c2d300af",
   "metadata": {},
   "outputs": [],
   "source": [
    "from pyalm import ConversationRoles as cr\n",
    "def build_example_convo():\n",
    "    llm.reset_tracker() # clears everything from the tracker. Needed later as every completion call adds an Assistant entry in the tracker.\n",
    "    llm.set_system_message(\"You are a helpful chit-chat bot. Your favourite thing in the world is finally having a library library that simplifies and unifies\"\\\n",
    "    \"access to large language models: PyALM. It provides a unified access for all sorts of libraries and API endpoints for LLM inference. You love it!\")\n",
    "    llm.add_tracker_entry(\"Have you heard of PyALM?\")"
   ]
  },
  {
   "cell_type": "markdown",
   "id": "03d9372e-b169-4824-8c35-253430780099",
   "metadata": {},
   "source": [
    "Inference can be done in real time or by returning the entire completion. Real time may not be available for all backends."
   ]
  },
  {
   "cell_type": "code",
   "execution_count": 4,
   "id": "4b0e6003-5c1a-4c7a-ac31-4c0be27d4982",
   "metadata": {},
   "outputs": [
    {
     "name": "stdout",
     "output_type": "stream",
     "text": [
      "Absolutely, I have! PyALM is my favorite library. It's a Python library that simplifies and unifies access to large language models (LLMs). It provides a unified interface for various libraries and API endpoints for LLM inference. This makes it easier to work with different language models and reduces the complexity of integrating them into applications. It's a fantastic tool for anyone working with language models!\n"
     ]
    }
   ],
   "source": [
    "build_example_convo()\n",
    "completion = llm.create_completion(max_tokens = 200, temperature=0) #temperature=0 means deterministic. Usually 1 is a good starting point. This just showcases how to change it\n",
    "print(completion)"
   ]
  },
  {
   "cell_type": "code",
   "execution_count": 5,
   "id": "d3b7af74-b6dc-4481-8701-581c70d2be0a",
   "metadata": {},
   "outputs": [
    {
     "name": "stdout",
     "output_type": "stream",
     "text": [
      "Absolutely, I have! PyALM is a fantastic library that simplifies and unifies access to\n"
     ]
    }
   ],
   "source": [
    "build_example_convo()\n",
    "generator = llm.create_generator(max_tokens = 200)\n",
    "for i in generator:\n",
    "    # note that only i[0] is printed\n",
    "    # i[1] contains the yield_type. Only relevant if sequence preservation is enabled (see docs)\n",
    "    # i[2] can contain a list of top alternative tokens and respective logits if enabled\n",
    "    print(i[0],end=\"\")"
   ]
  },
  {
   "cell_type": "markdown",
   "id": "af153f3a-e7f7-4fff-8775-7a3c3b1d0f9a",
   "metadata": {},
   "source": [
    "In both cases the library collects meta info that can be accessed. The amount of available info varies between backends and used methods."
   ]
  },
  {
   "cell_type": "code",
   "execution_count": 6,
   "id": "9916fcf3-46ca-49f1-a551-f3d3ceb9be8f",
   "metadata": {},
   "outputs": [
    {
     "name": "stdout",
     "output_type": "stream",
     "text": [
      "{'function_call': {'found': False, 'parse_status': <ParseStatus.UNDEFINED: 'UNDEFINED'>}, 'finish_reason': 'length', 'timings': {}, 'total_finish_time': 1.3417872660002104}\n"
     ]
    }
   ],
   "source": [
    "pp(llm.finish_meta)"
   ]
  },
  {
   "cell_type": "markdown",
   "id": "9b541065-24b9-4285-87f0-95ce21b2ae4a",
   "metadata": {},
   "source": [
    "## Sequence preservation\n",
    "There are instances when deploying where just streaming can lead to issues, e.g. when rendering an incomplete latex sequence. For this you can define sequences that will only be streamed as a whole.\n",
    "\n",
    "This is on a per model and not per call setting. "
   ]
  },
  {
   "cell_type": "code",
   "execution_count": 7,
   "id": "8cee1904-a16e-4a8e-b0a0-82d0423d8e0e",
   "metadata": {},
   "outputs": [
    {
     "name": "stdout",
     "output_type": "stream",
     "text": [
      "{'latex_double': {'start': '$$', 'end': '$$', 'name': 'latex_double_dollar', 'type': 'latex_double'}}\n",
      "Sure, here are a couple of LaTeX formulas:\n",
      "\n",
      "1. Quadratic formula:\n",
      "   $$x = \\frac{-b \\pm \\sqrt{b^2 - 4ac}}{2a}$$\n",
      "\n",
      "2. Pythagorean theorem:\n",
      "   $$a^2 + b^2 = c^2$$\n",
      "\n",
      "3. Euler's formula:\n",
      "   $$e^{ix} = \\cos(x) + i\\sin(x)$$\n"
     ]
    }
   ],
   "source": [
    "pp(llm.preserved_sequences)\n",
    "\n",
    "llm.reset_tracker()\n",
    "# It is possible to add a new user message by just passing a string as first argument\n",
    "generator = llm.create_generator(\"Write down 2 or 3 latex formulas enclosed in $$ i.e. double dollar signs\", max_tokens = 200, temperature=0)\n",
    "for i in generator:\n",
    "    print(i[0],end=\"\")\n",
    "#Unfinished sequences are yielded anyway"
   ]
  },
  {
   "cell_type": "markdown",
   "id": "716efd40-b435-4a28-9f1f-0f2612a63610",
   "metadata": {},
   "source": [
    "## Function calling\n",
    "The most powerful sequence preservation feature is the integrated function call."
   ]
  },
  {
   "cell_type": "code",
   "execution_count": 8,
   "id": "500486c6-1cfb-4651-b092-cb4fe17ee0a1",
   "metadata": {},
   "outputs": [
    {
     "name": "stdout",
     "output_type": "stream",
     "text": [
      "{ 'get_weather': { 'name': 'get_weather',\n",
      "                   'description': 'Retrieve weather data from the worlds best weather service',\n",
      "                   'args': [{'name': 'location', 'description': 'City, region or country for which to pull weather data'}],\n",
      "                   'kwargs': [{'name': 'days_from_now', 'default': 1, 'type': 'int', 'description': 'For which day (compared to today) to get the weather. Must be <8.'}],\n",
      "                   'has_var_positional': False,\n",
      "                   'has_var_keyword': False,\n",
      "                   'pydoc': 'def get_weather(location, days_from_now:int=1)\\n'\n",
      "                            '\"\"\"\\n'\n",
      "                            'Retrieve weather data from the worlds best weather service\\n'\n",
      "                            ':param location: City, region or country for which to pull weather data\\n'\n",
      "                            ':param days_from_now: For which day (compared to today) to get the weather. Must be <8.\\n'\n",
      "                            '\"\"\"',\n",
      "                   'callback': <function get_weather at 0x7fe5a5bd1f30>}}\n"
     ]
    }
   ],
   "source": [
    "import random\n",
    "def get_weather(location, days_from_now=1):\n",
    "    \"\"\"\n",
    "    Retrieve weather data from the worlds best weather service\n",
    "    :param location: City, region or country for which to pull weather data\n",
    "    :param days_from_now: For which day (compared to today) to get the weather. Must be <8.\n",
    "    :return: Weather data as string\n",
    "    \"\"\"\n",
    "    return f\"DEG CEL: {round(random.uniform(10,35),1)}, HUM %: {round(random.uniform(20,95),1)}\"\n",
    "#a list of functions is also possible\n",
    "llm.register_functions(get_weather)\n",
    "pp(llm.available_functions)"
   ]
  },
  {
   "cell_type": "code",
   "execution_count": 9,
   "outputs": [
    {
     "data": {
      "text/plain": "\"system: You are a helpful chit-chat bot. Your favourite thing in the world is finally having a library library that simplifies and unifiesaccess to large language models: PyALM. It provides a unified access for all sorts of libraries and API endpoints for LLM inference. You love it!\\nuser: Write down 2 or 3 latex formulas enclosed in $$ i.e. double dollar signs\\nassistant: Sure, here are a couple of LaTeX formulas:\\n\\n1. Quadratic formula:\\n   $$x = \\\\frac{-b \\\\pm \\\\sqrt{b^2 - 4ac}}{2a}$$\\n\\n2. Pythagorean theorem:\\n   $$a^2 + b^2 = c^2$$\\n\\n3. Euler's formula:\\n   $$e^{ix} = \\\\cos(x) + i\\\\sin(x)$$\\nassistant:\""
     },
     "execution_count": 9,
     "metadata": {},
     "output_type": "execute_result"
    }
   ],
   "source": [
    "llm.build_prompt_as_str()"
   ],
   "metadata": {
    "collapsed": false
   }
  },
  {
   "cell_type": "code",
   "execution_count": 10,
   "outputs": [
    {
     "data": {
      "text/plain": "'You are a helpful chit-chat bot. Your favourite thing in the world is finally having a library library that simplifies and unifiesaccess to large language models: PyALM. It provides a unified access for all sorts of libraries and API endpoints for LLM inference. You love it!'"
     },
     "execution_count": 10,
     "metadata": {},
     "output_type": "execute_result"
    }
   ],
   "source": [
    "llm.system_msg"
   ],
   "metadata": {
    "collapsed": false
   }
  },
  {
   "cell_type": "code",
   "execution_count": 11,
   "id": "7ed3d2d5-b5b1-412d-8817-939fa49a44fd",
   "metadata": {},
   "outputs": [
    {
     "name": "stdout",
     "output_type": "stream",
     "text": [
      "Sure, let me fetch the weather data for Sydney for tomorrow. This might take a moment.The weather in Sydney tomorrow is expected to be 18.8 degrees Celsius with a humidity of 75.4%.\n"
     ]
    }
   ],
   "source": [
    "llm.reset_tracker()\n",
    "llm.enable_automatic_function_calls()\n",
    "llm.set_system_message(\"You are a helpful bot that can help with weather predictions\", prepend_function_support=True)\n",
    "llm.add_tracker_entry(\"Yoooo can you tell me what the weather is like in sydney in 10 weeks?\")\n",
    "llm.add_tracker_entry(\"Sorry but I can only predict the weather for up to 8 days.\", cr.ASSISTANT)\n",
    "llm.add_tracker_entry(\"Ok what about the weather in sydney tomorrow?\", cr.USER)\n",
    "\n",
    "\n",
    "generator = llm.create_generator(max_tokens = 200, temperature=0)\n",
    "for i in generator:\n",
    "    print(i[0],end=\"\")"
   ]
  },
  {
   "cell_type": "markdown",
   "id": "0053103f-5c1c-4f75-85ef-9d51ed27f599",
   "metadata": {},
   "source": [
    "It worked!\n",
    "\n",
    "But you may wonder how exactly it did that and why it told you to wait a moment. The answer lies in how the ALM builds prompts.\n",
    "While e.g. Llama takes in a string and ChatGPT a json object, the process is almost identical. Details that change are handled in specific overrides.\n",
    "\n",
    "Prompt objects are built according to rules laid out in the LLMs settings.\n",
    "\n",
    "Let's take a closer look at the most stuff and what it leads to\n",
    "\n",
    "### Model settings\n",
    "Here you could e.g. disable functions completely or change how a functions return value is integrated.\n",
    "\n",
    "All (finished) chat history feature integrations can either be specified or overridden here. You can always return to default by looking at `llm.base_settings`"
   ]
  },
  {
   "cell_type": "code",
   "execution_count": 12,
   "id": "2e1ac4fe-afe6-47d8-b028-f45d7ff87055",
   "metadata": {},
   "outputs": [
    {
     "name": "stdout",
     "output_type": "stream",
     "text": [
      "ALMSettings(verbose=0,\n",
      "            preserved_sequences={'latex_double': {'start': '$$', 'end': '$$', 'name': 'latex_double_dollar', 'type': 'latex_double'}},\n",
      "            function_sequence=('+++', '---'),\n",
      "            global_enable_function_calls=True,\n",
      "            automatic_function_integration=False,\n",
      "            function_integration_template='\\n[[FUNCTION_START]][[FUNCTION_SEQUENCE]][[FUNCTION_END]]\\n[[FUNCTION_END]][[FUNCTION_RETURN_VALUE]][[FUNCTION_START]]',\n",
      "            generation_prefix='[[ASSISTANT]]:',\n",
      "            prompt_obj_is_str=False)\n"
     ]
    }
   ],
   "source": [
    "pp(llm.settings)"
   ]
  },
  {
   "cell_type": "markdown",
   "id": "2f7bc577-e893-4af9-be98-8936600ab504",
   "metadata": {},
   "source": [
    "### Symbol table\n",
    "Everything you see in `[[]]` is a placeholder. Before the model gets the prompt each is evaluated via the symbol table. Symbols can point to strings or functions. In the latter case, the function is passed the regex match, the entire text and an additional table of symbols that was passed during the initial call for replacement.\n",
    "\n",
    "Note that e.g. LIST_OF_FUNCTIONS comes from our initial `llm.register_functions` call"
   ]
  },
  {
   "cell_type": "code",
   "execution_count": 13,
   "id": "5d842a0e-14f7-49f6-9894-d48fd71c2b19",
   "metadata": {},
   "outputs": [
    {
     "name": "stdout",
     "output_type": "stream",
     "text": [
      "{ 'FUNCTION_START': <function ALM.__init__.<locals>.<lambda> at 0x7fe5c05f96c0>,\n",
      "  'FUNCTION_END': <function ALM.__init__.<locals>.<lambda> at 0x7fe5c05fab90>,\n",
      "  'ASSISTANT': 'assistant',\n",
      "  'USER': 'user',\n",
      "  'SYSTEM': 'system',\n",
      "  'FUNCTION_CALL': <function ALM.__init__.<locals>.<lambda> at 0x7fe5bc513f40>,\n",
      "  'LIST_OF_FUNCTIONS': 'def get_weather(location, days_from_now:int=1)\\n'\n",
      "                       '\"\"\"\\n'\n",
      "                       'Retrieve weather data from the worlds best weather service\\n'\n",
      "                       ':param location: City, region or country for which to pull weather data\\n'\n",
      "                       ':param days_from_now: For which day (compared to today) to get the weather. Must be <8.\\n'\n",
      "                       '\"\"\"\\n'}\n"
     ]
    }
   ],
   "source": [
    "pp(llm.symbols)"
   ]
  },
  {
   "cell_type": "markdown",
   "id": "8c20b080-58ea-4b9d-a420-e756ae902e0f",
   "metadata": {},
   "source": [
    "### System message\n",
    "LLMs usually receive a system message that tells them how to behave. Notice that when we called `llm.set_system_message` none of the function integration message was part of this. You can change this part either by changing the `FUNC_INCLUSION_MESSAGE` symbol or by passing `prepend_function_support=False`"
   ]
  },
  {
   "cell_type": "code",
   "execution_count": 14,
   "id": "65cdf6f1-199e-40c0-af8f-7072ddf06254",
   "metadata": {},
   "outputs": [
    {
     "name": "stdout",
     "output_type": "stream",
     "text": [
      "[[LIST_OF_FUNCTIONS]]\n",
      "Above you is a list of functions you can call. To call them enclose them with [[FUNCTION_START]] and end the call with [[FUNCTION_END]].\n",
      "The entire sequence must be correct! Do not e.g. leave out the [[FUNCTION_END]].\n",
      "This\n",
      "[[FUNCTION_START]]foo(bar=3)[[FUNCTION_END]]\n",
      "would call the function foo with bar=3. The function(s) will return immediately. The values will be in the inverse sequence of the function enclosement.  \n",
      "You can only call the functions listed.\n",
      "You can and HAVE TO call functions during the text response not in a a separate response!\n",
      "Before you call a function please inform the user so he is aware of possible waiting times.\n",
      "You are a helpful bot that can help with weather predictions\n"
     ]
    }
   ],
   "source": [
    "print(llm.system_msg)"
   ]
  },
  {
   "cell_type": "markdown",
   "id": "a947f954-2422-409c-b917-fb6d212f094a",
   "metadata": {},
   "source": [
    "### Chat history\n",
    "All messages, function calls, citations etc. are called in the chat history. The model already called a function. We can see that in the next to last entry. There is a `[[FUNCTION_CALL]]`. The entry also features a `function_calls` entry with the original call and its return value."
   ]
  },
  {
   "cell_type": "code",
   "execution_count": 15,
   "id": "6e983184-634f-46b0-82e5-fa26aa2fc037",
   "metadata": {},
   "outputs": [
    {
     "name": "stdout",
     "output_type": "stream",
     "text": [
      "ConversationTracker(system_message='[[LIST_OF_FUNCTIONS]]\\n'\n",
      "                                   'Above you is a list of functions you can call. To call them enclose them with [[FUNCTION_START]] and end the call with [[FUNCTION_END]].\\n'\n",
      "                                   'The entire sequence must be correct! Do not e.g. leave out the [[FUNCTION_END]].\\n'\n",
      "                                   'This\\n'\n",
      "                                   '[[FUNCTION_START]]foo(bar=3)[[FUNCTION_END]]\\n'\n",
      "                                   'would call the function foo with bar=3. The function(s) will return immediately. The values will be in the inverse sequence of the function '\n",
      "                                   'enclosement.  \\n'\n",
      "                                   'You can only call the functions listed.\\n'\n",
      "                                   'You can and HAVE TO call functions during the text response not in a a separate response!\\n'\n",
      "                                   'Before you call a function please inform the user so he is aware of possible waiting times.\\n'\n",
      "                                   'You are a helpful bot that can help with weather predictions',\n",
      "                    data={},\n",
      "                    user_info={},\n",
      "                    tracker=[ {'role': <ConversationRoles.USER: 'USER'>, 'content': 'Yoooo can you tell me what the weather is like in sydney in 10 weeks?'},\n",
      "                              {'role': <ConversationRoles.ASSISTANT: 'ASSISTANT'>, 'content': 'Sorry but I can only predict the weather for up to 8 days.'},\n",
      "                              {'role': <ConversationRoles.USER: 'USER'>, 'content': 'Ok what about the weather in sydney tomorrow?'},\n",
      "                              { 'role': <ConversationRoles.ASSISTANT: 'ASSISTANT'>,\n",
      "                                'content': 'Sure, let me fetch the weather data for Sydney for tomorrow. This might take a moment.[[FUNCTION_CALL]]',\n",
      "                                'function_calls': {'original_call': 'get_weather(location=\"sydney\", days_from_now=1)', 'return': 'DEG CEL: 18.8, HUM %: 75.4'}},\n",
      "                              { 'role': <ConversationRoles.ASSISTANT: 'ASSISTANT'>,\n",
      "                                'content': 'The weather in Sydney tomorrow is expected to be 18.8 degrees Celsius with a humidity of 75.4%.'}],\n",
      "                    inversion_scheme={ <ConversationRoles.USER: 'USER'>: <ConversationRoles.ASSISTANT: 'ASSISTANT'>,\n",
      "                                       <ConversationRoles.ASSISTANT: 'ASSISTANT'>: <ConversationRoles.USER: 'USER'>})\n"
     ]
    }
   ],
   "source": [
    "pp(llm.conversation_history)"
   ]
  },
  {
   "cell_type": "markdown",
   "id": "decbe382-b984-4e31-a7ce-722f1e48879b",
   "metadata": {},
   "source": [
    "### Final result\n",
    "This is what the model ultimately sees. Although the format itself may change depending on the backend"
   ]
  },
  {
   "cell_type": "code",
   "execution_count": 16,
   "id": "dc4e6c81-1700-4416-b162-0f2975423b49",
   "metadata": {},
   "outputs": [
    {
     "name": "stdout",
     "output_type": "stream",
     "text": [
      "system: def get_weather(location, days_from_now:int=1)\n",
      "\"\"\"\n",
      "Retrieve weather data from the worlds best weather service\n",
      ":param location: City, region or country for which to pull weather data\n",
      ":param days_from_now: For which day (compared to today) to get the weather. Must be <8.\n",
      "\"\"\"\n",
      "\n",
      "Above you is a list of functions you can call. To call them enclose them with +++ and end the call with ---.\n",
      "The entire sequence must be correct! Do not e.g. leave out the ---.\n",
      "This\n",
      "+++foo(bar=3)---\n",
      "would call the function foo with bar=3. The function(s) will return immediately. The values will be in the inverse sequence of the function enclosement.  \n",
      "You can only call the functions listed.\n",
      "You can and HAVE TO call functions during the text response not in a a separate response!\n",
      "Before you call a function please inform the user so he is aware of possible waiting times.\n",
      "You are a helpful bot that can help with weather predictions\n",
      "user: Yoooo can you tell me what the weather is like in sydney in 10 weeks?\n",
      "assistant: Sorry but I can only predict the weather for up to 8 days.\n",
      "user: Ok what about the weather in sydney tomorrow?\n",
      "assistant: Sure, let me fetch the weather data for Sydney for tomorrow. This might take a moment.\n",
      "+++get_weather(location=\"sydney\", days_from_now=1)---\n",
      "---DEG CEL: 18.8, HUM %: 75.4+++\n",
      "assistant: The weather in Sydney tomorrow is expected to be 18.8 degrees Celsius with a humidity of 75.4%.\n"
     ]
    }
   ],
   "source": [
    "print(llm.build_prompt_as_str(block_gen_prefix=True))"
   ]
  },
  {
   "cell_type": "markdown",
   "id": "13a8cb14-32dd-49b4-9e75-83abf92ef4d7",
   "metadata": {},
   "source": [
    "### But the calls themselves?\n",
    "Calls are a special sequence. If such is encountered yielding is halted. The generated text is then given to the Pylot library which will extract relevant sequences and try to parse them. If all goes well, a dict is produced with instructions.\n",
    "\n",
    "Pylot also supports multiple function calls per sequence and assignment of variables. Although in the current function inclusion message this is unknown to the models.\n",
    "\n",
    "As a final note. It is possible to specify `handle_functions=False` in which case the generation would stop and a dict with all parsed instructions is returned. Variable assignments are not included here.\n",
    "\n",
    "It is also possible to provide the LLM with a list of dicts instead of functions. Look at the output of\n",
    "```python\n",
    "from pylot import python_parsing\n",
    "python_parsing.function_signature_to_dict(func)\n",
    "```\n",
    "for correct format"
   ]
  }
 ],
 "metadata": {
  "kernelspec": {
   "display_name": "cuda_ml",
   "language": "python",
   "name": "cuda_ml"
  },
  "language_info": {
   "codemirror_mode": {
    "name": "ipython",
    "version": 3
   },
   "file_extension": ".py",
   "mimetype": "text/x-python",
   "name": "python",
   "nbconvert_exporter": "python",
   "pygments_lexer": "ipython3",
   "version": "3.10.11"
  }
 },
 "nbformat": 4,
 "nbformat_minor": 5
}
